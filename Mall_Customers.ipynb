{
 "cells": [
  {
   "cell_type": "code",
   "execution_count": null,
   "id": "4948a198",
   "metadata": {},
   "outputs": [],
   "source": [
    "The data contains some basic details of the customers of a mall, based on the nature of spending customer is given spending score.\n",
    "Main objective is to understand the customers need and update the same to the sales and marketing team to improvise the sales of the products.\n",
    "\n",
    "objective:\n",
    "    \n",
    "Maximize: Sales of the products\n",
    "    \n",
    "Minimize: Customer churn"
   ]
  },
  {
   "cell_type": "code",
   "execution_count": 104,
   "id": "29911470",
   "metadata": {},
   "outputs": [],
   "source": [
    "import pandas as pd\n",
    "import numpy as np\n",
    "import seaborn as sns\n",
    "import matplotlib.pyplot as plt\n"
   ]
  },
  {
   "cell_type": "code",
   "execution_count": 105,
   "id": "64ad0be1",
   "metadata": {},
   "outputs": [],
   "source": [
    "df = pd.read_csv('Mall_Customers.csv')"
   ]
  },
  {
   "cell_type": "code",
   "execution_count": 106,
   "id": "271a3cf6",
   "metadata": {},
   "outputs": [
    {
     "data": {
      "text/html": [
       "<div>\n",
       "<style scoped>\n",
       "    .dataframe tbody tr th:only-of-type {\n",
       "        vertical-align: middle;\n",
       "    }\n",
       "\n",
       "    .dataframe tbody tr th {\n",
       "        vertical-align: top;\n",
       "    }\n",
       "\n",
       "    .dataframe thead th {\n",
       "        text-align: right;\n",
       "    }\n",
       "</style>\n",
       "<table border=\"1\" class=\"dataframe\">\n",
       "  <thead>\n",
       "    <tr style=\"text-align: right;\">\n",
       "      <th></th>\n",
       "      <th>CustomerID</th>\n",
       "      <th>Gender</th>\n",
       "      <th>Age</th>\n",
       "      <th>Annual Income (k$)</th>\n",
       "      <th>Spending Score (1-100)</th>\n",
       "    </tr>\n",
       "  </thead>\n",
       "  <tbody>\n",
       "    <tr>\n",
       "      <th>0</th>\n",
       "      <td>1</td>\n",
       "      <td>Male</td>\n",
       "      <td>19</td>\n",
       "      <td>15</td>\n",
       "      <td>39</td>\n",
       "    </tr>\n",
       "    <tr>\n",
       "      <th>1</th>\n",
       "      <td>2</td>\n",
       "      <td>Male</td>\n",
       "      <td>21</td>\n",
       "      <td>15</td>\n",
       "      <td>81</td>\n",
       "    </tr>\n",
       "    <tr>\n",
       "      <th>2</th>\n",
       "      <td>3</td>\n",
       "      <td>Female</td>\n",
       "      <td>20</td>\n",
       "      <td>16</td>\n",
       "      <td>6</td>\n",
       "    </tr>\n",
       "    <tr>\n",
       "      <th>3</th>\n",
       "      <td>4</td>\n",
       "      <td>Female</td>\n",
       "      <td>23</td>\n",
       "      <td>16</td>\n",
       "      <td>77</td>\n",
       "    </tr>\n",
       "    <tr>\n",
       "      <th>4</th>\n",
       "      <td>5</td>\n",
       "      <td>Female</td>\n",
       "      <td>31</td>\n",
       "      <td>17</td>\n",
       "      <td>40</td>\n",
       "    </tr>\n",
       "    <tr>\n",
       "      <th>...</th>\n",
       "      <td>...</td>\n",
       "      <td>...</td>\n",
       "      <td>...</td>\n",
       "      <td>...</td>\n",
       "      <td>...</td>\n",
       "    </tr>\n",
       "    <tr>\n",
       "      <th>195</th>\n",
       "      <td>196</td>\n",
       "      <td>Female</td>\n",
       "      <td>35</td>\n",
       "      <td>120</td>\n",
       "      <td>79</td>\n",
       "    </tr>\n",
       "    <tr>\n",
       "      <th>196</th>\n",
       "      <td>197</td>\n",
       "      <td>Female</td>\n",
       "      <td>45</td>\n",
       "      <td>126</td>\n",
       "      <td>28</td>\n",
       "    </tr>\n",
       "    <tr>\n",
       "      <th>197</th>\n",
       "      <td>198</td>\n",
       "      <td>Male</td>\n",
       "      <td>32</td>\n",
       "      <td>126</td>\n",
       "      <td>74</td>\n",
       "    </tr>\n",
       "    <tr>\n",
       "      <th>198</th>\n",
       "      <td>199</td>\n",
       "      <td>Male</td>\n",
       "      <td>32</td>\n",
       "      <td>137</td>\n",
       "      <td>18</td>\n",
       "    </tr>\n",
       "    <tr>\n",
       "      <th>199</th>\n",
       "      <td>200</td>\n",
       "      <td>Male</td>\n",
       "      <td>30</td>\n",
       "      <td>137</td>\n",
       "      <td>83</td>\n",
       "    </tr>\n",
       "  </tbody>\n",
       "</table>\n",
       "<p>200 rows × 5 columns</p>\n",
       "</div>"
      ],
      "text/plain": [
       "     CustomerID  Gender  Age  Annual Income (k$)  Spending Score (1-100)\n",
       "0             1    Male   19                  15                      39\n",
       "1             2    Male   21                  15                      81\n",
       "2             3  Female   20                  16                       6\n",
       "3             4  Female   23                  16                      77\n",
       "4             5  Female   31                  17                      40\n",
       "..          ...     ...  ...                 ...                     ...\n",
       "195         196  Female   35                 120                      79\n",
       "196         197  Female   45                 126                      28\n",
       "197         198    Male   32                 126                      74\n",
       "198         199    Male   32                 137                      18\n",
       "199         200    Male   30                 137                      83\n",
       "\n",
       "[200 rows x 5 columns]"
      ]
     },
     "execution_count": 106,
     "metadata": {},
     "output_type": "execute_result"
    }
   ],
   "source": [
    "df"
   ]
  },
  {
   "cell_type": "code",
   "execution_count": 107,
   "id": "72ae60be",
   "metadata": {},
   "outputs": [],
   "source": [
    "#Since customerID is a nominal data and doesn't provide any useful information so the feature will be dropped.\n",
    "df.drop(['CustomerID'], axis =1 , inplace= True)"
   ]
  },
  {
   "cell_type": "code",
   "execution_count": 108,
   "id": "98b925d6",
   "metadata": {},
   "outputs": [
    {
     "data": {
      "text/plain": [
       "Gender                    0\n",
       "Age                       0\n",
       "Annual Income (k$)        0\n",
       "Spending Score (1-100)    0\n",
       "dtype: int64"
      ]
     },
     "execution_count": 108,
     "metadata": {},
     "output_type": "execute_result"
    }
   ],
   "source": [
    "#Checking for null values\n",
    "df.isna().sum()"
   ]
  },
  {
   "cell_type": "code",
   "execution_count": 109,
   "id": "ee69894b",
   "metadata": {},
   "outputs": [
    {
     "data": {
      "text/plain": [
       "0"
      ]
     },
     "execution_count": 109,
     "metadata": {},
     "output_type": "execute_result"
    }
   ],
   "source": [
    "#Checking for duplicate values\n",
    "duplicate = df.duplicated()\n",
    "sum(duplicate)"
   ]
  },
  {
   "cell_type": "code",
   "execution_count": 110,
   "id": "e1d9c511",
   "metadata": {},
   "outputs": [],
   "source": [
    "#There are no duplicate values"
   ]
  },
  {
   "cell_type": "code",
   "execution_count": 111,
   "id": "725de671",
   "metadata": {},
   "outputs": [
    {
     "data": {
      "text/plain": [
       "Gender                    object\n",
       "Age                        int64\n",
       "Annual Income (k$)         int64\n",
       "Spending Score (1-100)     int64\n",
       "dtype: object"
      ]
     },
     "execution_count": 111,
     "metadata": {},
     "output_type": "execute_result"
    }
   ],
   "source": [
    "#To know the data type of each feature\n",
    "df.dtypes"
   ]
  },
  {
   "cell_type": "code",
   "execution_count": 112,
   "id": "604170e4",
   "metadata": {},
   "outputs": [
    {
     "data": {
      "text/plain": [
       "<AxesSubplot:xlabel='Age', ylabel='Spending Score (1-100)'>"
      ]
     },
     "execution_count": 112,
     "metadata": {},
     "output_type": "execute_result"
    },
    {
     "data": {
      "image/png": "[encoded data removed]",
      "text/plain": [
       "<Figure size 432x288 with 1 Axes>"
      ]
     },
     "metadata": {
      "needs_background": "light"
     },
     "output_type": "display_data"
    }
   ],
   "source": [
    "sns.scatterplot(x='Age', y='Spending Score (1-100)', data=df)"
   ]
  },
  {
   "cell_type": "code",
   "execution_count": 113,
   "id": "2e499437",
   "metadata": {},
   "outputs": [
    {
     "ename": "SyntaxError",
     "evalue": "invalid syntax (1229583320.py, line 2)",
     "output_type": "error",
     "traceback": [
      "\u001b[1;36m  Input \u001b[1;32mIn [113]\u001b[1;36m\u001b[0m\n\u001b[1;33m    Spending score is high between the age group of 20 to 40\u001b[0m\n\u001b[1;37m             ^\u001b[0m\n\u001b[1;31mSyntaxError\u001b[0m\u001b[1;31m:\u001b[0m invalid syntax\n"
     ]
    }
   ],
   "source": [
    "#observation\n",
    "Spending score is high between the age group of 20 to 40"
   ]
  },
  {
   "cell_type": "code",
   "execution_count": 114,
   "id": "566434da",
   "metadata": {},
   "outputs": [
    {
     "data": {
      "text/plain": [
       "<AxesSubplot:xlabel='Spending Score (1-100)', ylabel='Annual Income (k$)'>"
      ]
     },
     "execution_count": 114,
     "metadata": {},
     "output_type": "execute_result"
    },
    {
     "data": {
      "image/png": "[encoded data removed]",
      "text/plain": [
       "<Figure size 432x288 with 1 Axes>"
      ]
     },
     "metadata": {
      "needs_background": "light"
     },
     "output_type": "display_data"
    }
   ],
   "source": [
    "sns.scatterplot(x='Spending Score (1-100)', y='Annual Income (k$)', data=df)"
   ]
  },
  {
   "cell_type": "code",
   "execution_count": 115,
   "id": "e5f67fde",
   "metadata": {},
   "outputs": [
    {
     "ename": "SyntaxError",
     "evalue": "invalid syntax (1093360390.py, line 2)",
     "output_type": "error",
     "traceback": [
      "\u001b[1;36m  Input \u001b[1;32mIn [115]\u001b[1;36m\u001b[0m\n\u001b[1;33m    data can be categorized into 5 clusters based on spending Score and Annual Income\u001b[0m\n\u001b[1;37m         ^\u001b[0m\n\u001b[1;31mSyntaxError\u001b[0m\u001b[1;31m:\u001b[0m invalid syntax\n"
     ]
    }
   ],
   "source": [
    "#Obseravation\n",
    "data can be categorized into 5 clusters based on spending Score and Annual Income"
   ]
  },
  {
   "cell_type": "code",
   "execution_count": 116,
   "id": "4da00cce",
   "metadata": {},
   "outputs": [
    {
     "data": {
      "text/plain": [
       "Female    112\n",
       "Male       88\n",
       "Name: Gender, dtype: int64"
      ]
     },
     "execution_count": 116,
     "metadata": {},
     "output_type": "execute_result"
    }
   ],
   "source": [
    "df.Gender.value_counts()"
   ]
  },
  {
   "cell_type": "code",
   "execution_count": 117,
   "id": "20353c20",
   "metadata": {},
   "outputs": [
    {
     "data": {
      "text/plain": [
       "<AxesSubplot:xlabel='Gender', ylabel='Spending Score (1-100)'>"
      ]
     },
     "execution_count": 117,
     "metadata": {},
     "output_type": "execute_result"
    },
    {
     "data": {
      "image/png": "[encoded data removed]",
      "text/plain": [
       "<Figure size 432x288 with 1 Axes>"
      ]
     },
     "metadata": {
      "needs_background": "light"
     },
     "output_type": "display_data"
    }
   ],
   "source": [
    "sns.barplot(x='Gender',y='Spending Score (1-100)', data=df)"
   ]
  },
  {
   "cell_type": "code",
   "execution_count": 118,
   "id": "4b9464a0",
   "metadata": {},
   "outputs": [
    {
     "ename": "SyntaxError",
     "evalue": "invalid syntax (1930517745.py, line 2)",
     "output_type": "error",
     "traceback": [
      "\u001b[1;36m  Input \u001b[1;32mIn [118]\u001b[1;36m\u001b[0m\n\u001b[1;33m    Spending score of women is greater than men\u001b[0m\n\u001b[1;37m             ^\u001b[0m\n\u001b[1;31mSyntaxError\u001b[0m\u001b[1;31m:\u001b[0m invalid syntax\n"
     ]
    }
   ],
   "source": [
    "#Observation\n",
    "Spending score of women is greater than men\n"
   ]
  },
  {
   "cell_type": "code",
   "execution_count": 119,
   "id": "ffd9569c",
   "metadata": {},
   "outputs": [
    {
     "name": "stderr",
     "output_type": "stream",
     "text": [
      "C:\\Users\\Hp\\anaconda3\\lib\\site-packages\\seaborn\\_decorators.py:36: FutureWarning: Pass the following variable as a keyword arg: x. From version 0.12, the only valid positional argument will be `data`, and passing other arguments without an explicit keyword will result in an error or misinterpretation.\n",
      "  warnings.warn(\n"
     ]
    },
    {
     "data": {
      "text/plain": [
       "<AxesSubplot:xlabel='Age'>"
      ]
     },
     "execution_count": 119,
     "metadata": {},
     "output_type": "execute_result"
    },
    {
     "data": {
      "image/png": "[encoded data removed]",
      "text/plain": [
       "<Figure size 432x288 with 1 Axes>"
      ]
     },
     "metadata": {
      "needs_background": "light"
     },
     "output_type": "display_data"
    }
   ],
   "source": [
    "#Checking for ouliers in the data set\n",
    "\n",
    "sns.boxplot(df.Age)"
   ]
  },
  {
   "cell_type": "code",
   "execution_count": 120,
   "id": "8bfdd743",
   "metadata": {},
   "outputs": [],
   "source": [
    "df.rename(columns={'Spending Score (1-100)':'spending_score'},inplace=True)\n"
   ]
  },
  {
   "cell_type": "code",
   "execution_count": 121,
   "id": "a9cc0eba",
   "metadata": {},
   "outputs": [
    {
     "data": {
      "text/html": [
       "<div>\n",
       "<style scoped>\n",
       "    .dataframe tbody tr th:only-of-type {\n",
       "        vertical-align: middle;\n",
       "    }\n",
       "\n",
       "    .dataframe tbody tr th {\n",
       "        vertical-align: top;\n",
       "    }\n",
       "\n",
       "    .dataframe thead th {\n",
       "        text-align: right;\n",
       "    }\n",
       "</style>\n",
       "<table border=\"1\" class=\"dataframe\">\n",
       "  <thead>\n",
       "    <tr style=\"text-align: right;\">\n",
       "      <th></th>\n",
       "      <th>Gender</th>\n",
       "      <th>Age</th>\n",
       "      <th>Annual Income (k$)</th>\n",
       "      <th>spending_score</th>\n",
       "    </tr>\n",
       "  </thead>\n",
       "  <tbody>\n",
       "    <tr>\n",
       "      <th>0</th>\n",
       "      <td>Male</td>\n",
       "      <td>19</td>\n",
       "      <td>15</td>\n",
       "      <td>39</td>\n",
       "    </tr>\n",
       "    <tr>\n",
       "      <th>1</th>\n",
       "      <td>Male</td>\n",
       "      <td>21</td>\n",
       "      <td>15</td>\n",
       "      <td>81</td>\n",
       "    </tr>\n",
       "    <tr>\n",
       "      <th>2</th>\n",
       "      <td>Female</td>\n",
       "      <td>20</td>\n",
       "      <td>16</td>\n",
       "      <td>6</td>\n",
       "    </tr>\n",
       "    <tr>\n",
       "      <th>3</th>\n",
       "      <td>Female</td>\n",
       "      <td>23</td>\n",
       "      <td>16</td>\n",
       "      <td>77</td>\n",
       "    </tr>\n",
       "    <tr>\n",
       "      <th>4</th>\n",
       "      <td>Female</td>\n",
       "      <td>31</td>\n",
       "      <td>17</td>\n",
       "      <td>40</td>\n",
       "    </tr>\n",
       "    <tr>\n",
       "      <th>...</th>\n",
       "      <td>...</td>\n",
       "      <td>...</td>\n",
       "      <td>...</td>\n",
       "      <td>...</td>\n",
       "    </tr>\n",
       "    <tr>\n",
       "      <th>195</th>\n",
       "      <td>Female</td>\n",
       "      <td>35</td>\n",
       "      <td>120</td>\n",
       "      <td>79</td>\n",
       "    </tr>\n",
       "    <tr>\n",
       "      <th>196</th>\n",
       "      <td>Female</td>\n",
       "      <td>45</td>\n",
       "      <td>126</td>\n",
       "      <td>28</td>\n",
       "    </tr>\n",
       "    <tr>\n",
       "      <th>197</th>\n",
       "      <td>Male</td>\n",
       "      <td>32</td>\n",
       "      <td>126</td>\n",
       "      <td>74</td>\n",
       "    </tr>\n",
       "    <tr>\n",
       "      <th>198</th>\n",
       "      <td>Male</td>\n",
       "      <td>32</td>\n",
       "      <td>137</td>\n",
       "      <td>18</td>\n",
       "    </tr>\n",
       "    <tr>\n",
       "      <th>199</th>\n",
       "      <td>Male</td>\n",
       "      <td>30</td>\n",
       "      <td>137</td>\n",
       "      <td>83</td>\n",
       "    </tr>\n",
       "  </tbody>\n",
       "</table>\n",
       "<p>200 rows × 4 columns</p>\n",
       "</div>"
      ],
      "text/plain": [
       "     Gender  Age  Annual Income (k$)  spending_score\n",
       "0      Male   19                  15              39\n",
       "1      Male   21                  15              81\n",
       "2    Female   20                  16               6\n",
       "3    Female   23                  16              77\n",
       "4    Female   31                  17              40\n",
       "..      ...  ...                 ...             ...\n",
       "195  Female   35                 120              79\n",
       "196  Female   45                 126              28\n",
       "197    Male   32                 126              74\n",
       "198    Male   32                 137              18\n",
       "199    Male   30                 137              83\n",
       "\n",
       "[200 rows x 4 columns]"
      ]
     },
     "execution_count": 121,
     "metadata": {},
     "output_type": "execute_result"
    }
   ],
   "source": [
    "df"
   ]
  },
  {
   "cell_type": "code",
   "execution_count": 122,
   "id": "8824e64f",
   "metadata": {},
   "outputs": [
    {
     "name": "stderr",
     "output_type": "stream",
     "text": [
      "C:\\Users\\Hp\\anaconda3\\lib\\site-packages\\seaborn\\_decorators.py:36: FutureWarning: Pass the following variable as a keyword arg: x. From version 0.12, the only valid positional argument will be `data`, and passing other arguments without an explicit keyword will result in an error or misinterpretation.\n",
      "  warnings.warn(\n"
     ]
    },
    {
     "data": {
      "text/plain": [
       "<AxesSubplot:xlabel='spending_score'>"
      ]
     },
     "execution_count": 122,
     "metadata": {},
     "output_type": "execute_result"
    },
    {
     "data": {
      "image/png": "[encoded data removed]",
      "text/plain": [
       "<Figure size 432x288 with 1 Axes>"
      ]
     },
     "metadata": {
      "needs_background": "light"
     },
     "output_type": "display_data"
    }
   ],
   "source": [
    "sns.boxplot(df.spending_score)"
   ]
  },
  {
   "cell_type": "code",
   "execution_count": 123,
   "id": "81d1e74e",
   "metadata": {},
   "outputs": [],
   "source": [
    "df.rename(columns={'Annual Income (k$)':'Annual_income'},inplace=True)\n"
   ]
  },
  {
   "cell_type": "code",
   "execution_count": 124,
   "id": "f729a7d6",
   "metadata": {},
   "outputs": [
    {
     "name": "stderr",
     "output_type": "stream",
     "text": [
      "C:\\Users\\Hp\\anaconda3\\lib\\site-packages\\seaborn\\_decorators.py:36: FutureWarning: Pass the following variable as a keyword arg: x. From version 0.12, the only valid positional argument will be `data`, and passing other arguments without an explicit keyword will result in an error or misinterpretation.\n",
      "  warnings.warn(\n"
     ]
    },
    {
     "data": {
      "text/plain": [
       "<AxesSubplot:xlabel='Annual_income'>"
      ]
     },
     "execution_count": 124,
     "metadata": {},
     "output_type": "execute_result"
    },
    {
     "data": {
      "image/png": "[encoded data removed]",
      "text/plain": [
       "<Figure size 432x288 with 1 Axes>"
      ]
     },
     "metadata": {
      "needs_background": "light"
     },
     "output_type": "display_data"
    }
   ],
   "source": [
    "sns.boxplot(df.Annual_income)"
   ]
  },
  {
   "cell_type": "code",
   "execution_count": 125,
   "id": "eb0f9bf8",
   "metadata": {},
   "outputs": [
    {
     "data": {
      "text/plain": [
       "(41.5, 78.0)"
      ]
     },
     "execution_count": 125,
     "metadata": {},
     "output_type": "execute_result"
    }
   ],
   "source": [
    "Q1 = df['Annual_income'].quantile(0.25)\n",
    "Q3 = df['Annual_income'].quantile(0.75)\n",
    "Q1, Q3"
   ]
  },
  {
   "cell_type": "code",
   "execution_count": 126,
   "id": "8d390e7a",
   "metadata": {},
   "outputs": [
    {
     "data": {
      "text/plain": [
       "36.5"
      ]
     },
     "execution_count": 126,
     "metadata": {},
     "output_type": "execute_result"
    }
   ],
   "source": [
    "IQR = Q3-Q1\n",
    "IQR"
   ]
  },
  {
   "cell_type": "code",
   "execution_count": 127,
   "id": "e65ec983",
   "metadata": {},
   "outputs": [
    {
     "data": {
      "text/plain": [
       "(-13.25, 132.75)"
      ]
     },
     "execution_count": 127,
     "metadata": {},
     "output_type": "execute_result"
    }
   ],
   "source": [
    "lower_limit =Q1 - 1.5*IQR\n",
    "upper_limit = Q3 + 1.5*IQR\n",
    "lower_limit, upper_limit"
   ]
  },
  {
   "cell_type": "code",
   "execution_count": 128,
   "id": "51218aee",
   "metadata": {},
   "outputs": [
    {
     "data": {
      "text/plain": [
       "array([False, False, False, False, False, False, False, False, False,\n",
       "       False, False, False, False, False, False, False, False, False,\n",
       "       False, False, False, False, False, False, False, False, False,\n",
       "       False, False, False, False, False, False, False, False, False,\n",
       "       False, False, False, False, False, False, False, False, False,\n",
       "       False, False, False, False, False, False, False, False, False,\n",
       "       False, False, False, False, False, False, False, False, False,\n",
       "       False, False, False, False, False, False, False, False, False,\n",
       "       False, False, False, False, False, False, False, False, False,\n",
       "       False, False, False, False, False, False, False, False, False,\n",
       "       False, False, False, False, False, False, False, False, False,\n",
       "       False, False, False, False, False, False, False, False, False,\n",
       "       False, False, False, False, False, False, False, False, False,\n",
       "       False, False, False, False, False, False, False, False, False,\n",
       "       False, False, False, False, False, False, False, False, False,\n",
       "       False, False, False, False, False, False, False, False, False,\n",
       "       False, False, False, False, False, False, False, False, False,\n",
       "       False, False, False, False, False, False, False, False, False,\n",
       "       False, False, False, False, False, False, False, False, False,\n",
       "       False, False, False, False, False, False, False, False, False,\n",
       "       False, False, False, False, False, False, False, False, False,\n",
       "       False, False, False, False, False, False, False, False, False,\n",
       "        True,  True])"
      ]
     },
     "execution_count": 128,
     "metadata": {},
     "output_type": "execute_result"
    }
   ],
   "source": [
    "outlier = np.where(df['Annual_income']>upper_limit, True,np.where(df['Annual_income']<lower_limit,True,False))\n",
    "outlier"
   ]
  },
  {
   "cell_type": "code",
   "execution_count": 129,
   "id": "0660b5b3",
   "metadata": {},
   "outputs": [
    {
     "data": {
      "text/html": [
       "<div>\n",
       "<style scoped>\n",
       "    .dataframe tbody tr th:only-of-type {\n",
       "        vertical-align: middle;\n",
       "    }\n",
       "\n",
       "    .dataframe tbody tr th {\n",
       "        vertical-align: top;\n",
       "    }\n",
       "\n",
       "    .dataframe thead th {\n",
       "        text-align: right;\n",
       "    }\n",
       "</style>\n",
       "<table border=\"1\" class=\"dataframe\">\n",
       "  <thead>\n",
       "    <tr style=\"text-align: right;\">\n",
       "      <th></th>\n",
       "      <th>Gender</th>\n",
       "      <th>Age</th>\n",
       "      <th>Annual_income</th>\n",
       "      <th>spending_score</th>\n",
       "    </tr>\n",
       "  </thead>\n",
       "  <tbody>\n",
       "    <tr>\n",
       "      <th>0</th>\n",
       "      <td>Male</td>\n",
       "      <td>19</td>\n",
       "      <td>15</td>\n",
       "      <td>39</td>\n",
       "    </tr>\n",
       "    <tr>\n",
       "      <th>1</th>\n",
       "      <td>Male</td>\n",
       "      <td>21</td>\n",
       "      <td>15</td>\n",
       "      <td>81</td>\n",
       "    </tr>\n",
       "    <tr>\n",
       "      <th>2</th>\n",
       "      <td>Female</td>\n",
       "      <td>20</td>\n",
       "      <td>16</td>\n",
       "      <td>6</td>\n",
       "    </tr>\n",
       "    <tr>\n",
       "      <th>3</th>\n",
       "      <td>Female</td>\n",
       "      <td>23</td>\n",
       "      <td>16</td>\n",
       "      <td>77</td>\n",
       "    </tr>\n",
       "    <tr>\n",
       "      <th>4</th>\n",
       "      <td>Female</td>\n",
       "      <td>31</td>\n",
       "      <td>17</td>\n",
       "      <td>40</td>\n",
       "    </tr>\n",
       "    <tr>\n",
       "      <th>...</th>\n",
       "      <td>...</td>\n",
       "      <td>...</td>\n",
       "      <td>...</td>\n",
       "      <td>...</td>\n",
       "    </tr>\n",
       "    <tr>\n",
       "      <th>193</th>\n",
       "      <td>Female</td>\n",
       "      <td>38</td>\n",
       "      <td>113</td>\n",
       "      <td>91</td>\n",
       "    </tr>\n",
       "    <tr>\n",
       "      <th>194</th>\n",
       "      <td>Female</td>\n",
       "      <td>47</td>\n",
       "      <td>120</td>\n",
       "      <td>16</td>\n",
       "    </tr>\n",
       "    <tr>\n",
       "      <th>195</th>\n",
       "      <td>Female</td>\n",
       "      <td>35</td>\n",
       "      <td>120</td>\n",
       "      <td>79</td>\n",
       "    </tr>\n",
       "    <tr>\n",
       "      <th>196</th>\n",
       "      <td>Female</td>\n",
       "      <td>45</td>\n",
       "      <td>126</td>\n",
       "      <td>28</td>\n",
       "    </tr>\n",
       "    <tr>\n",
       "      <th>197</th>\n",
       "      <td>Male</td>\n",
       "      <td>32</td>\n",
       "      <td>126</td>\n",
       "      <td>74</td>\n",
       "    </tr>\n",
       "  </tbody>\n",
       "</table>\n",
       "<p>198 rows × 4 columns</p>\n",
       "</div>"
      ],
      "text/plain": [
       "     Gender  Age  Annual_income  spending_score\n",
       "0      Male   19             15              39\n",
       "1      Male   21             15              81\n",
       "2    Female   20             16               6\n",
       "3    Female   23             16              77\n",
       "4    Female   31             17              40\n",
       "..      ...  ...            ...             ...\n",
       "193  Female   38            113              91\n",
       "194  Female   47            120              16\n",
       "195  Female   35            120              79\n",
       "196  Female   45            126              28\n",
       "197    Male   32            126              74\n",
       "\n",
       "[198 rows x 4 columns]"
      ]
     },
     "execution_count": 129,
     "metadata": {},
     "output_type": "execute_result"
    }
   ],
   "source": [
    "df_trimmed = df.loc[~(outlier),]\n",
    "df_trimmed"
   ]
  },
  {
   "cell_type": "code",
   "execution_count": 130,
   "id": "a049d2b2",
   "metadata": {},
   "outputs": [],
   "source": [
    "#Applying winsorization technique to replace the outliers with upper limit or lower limit values\n",
    "from feature_engine.outliers import Winsorizer"
   ]
  },
  {
   "cell_type": "code",
   "execution_count": 131,
   "id": "17279eb4",
   "metadata": {},
   "outputs": [
    {
     "data": {
      "text/html": [
       "<div>\n",
       "<style scoped>\n",
       "    .dataframe tbody tr th:only-of-type {\n",
       "        vertical-align: middle;\n",
       "    }\n",
       "\n",
       "    .dataframe tbody tr th {\n",
       "        vertical-align: top;\n",
       "    }\n",
       "\n",
       "    .dataframe thead th {\n",
       "        text-align: right;\n",
       "    }\n",
       "</style>\n",
       "<table border=\"1\" class=\"dataframe\">\n",
       "  <thead>\n",
       "    <tr style=\"text-align: right;\">\n",
       "      <th></th>\n",
       "      <th>Annual_income</th>\n",
       "    </tr>\n",
       "  </thead>\n",
       "  <tbody>\n",
       "    <tr>\n",
       "      <th>0</th>\n",
       "      <td>15.00</td>\n",
       "    </tr>\n",
       "    <tr>\n",
       "      <th>1</th>\n",
       "      <td>15.00</td>\n",
       "    </tr>\n",
       "    <tr>\n",
       "      <th>2</th>\n",
       "      <td>16.00</td>\n",
       "    </tr>\n",
       "    <tr>\n",
       "      <th>3</th>\n",
       "      <td>16.00</td>\n",
       "    </tr>\n",
       "    <tr>\n",
       "      <th>4</th>\n",
       "      <td>17.00</td>\n",
       "    </tr>\n",
       "    <tr>\n",
       "      <th>...</th>\n",
       "      <td>...</td>\n",
       "    </tr>\n",
       "    <tr>\n",
       "      <th>195</th>\n",
       "      <td>120.00</td>\n",
       "    </tr>\n",
       "    <tr>\n",
       "      <th>196</th>\n",
       "      <td>126.00</td>\n",
       "    </tr>\n",
       "    <tr>\n",
       "      <th>197</th>\n",
       "      <td>126.00</td>\n",
       "    </tr>\n",
       "    <tr>\n",
       "      <th>198</th>\n",
       "      <td>132.75</td>\n",
       "    </tr>\n",
       "    <tr>\n",
       "      <th>199</th>\n",
       "      <td>132.75</td>\n",
       "    </tr>\n",
       "  </tbody>\n",
       "</table>\n",
       "<p>200 rows × 1 columns</p>\n",
       "</div>"
      ],
      "text/plain": [
       "     Annual_income\n",
       "0            15.00\n",
       "1            15.00\n",
       "2            16.00\n",
       "3            16.00\n",
       "4            17.00\n",
       "..             ...\n",
       "195         120.00\n",
       "196         126.00\n",
       "197         126.00\n",
       "198         132.75\n",
       "199         132.75\n",
       "\n",
       "[200 rows x 1 columns]"
      ]
     },
     "execution_count": 131,
     "metadata": {},
     "output_type": "execute_result"
    }
   ],
   "source": [
    "winsor = Winsorizer(capping_method ='iqr',tail='both',fold=1.5,variables='Annual_income')\n",
    "df_t = winsor.fit_transform(df[['Annual_income']])\n",
    "df_t"
   ]
  },
  {
   "cell_type": "code",
   "execution_count": 132,
   "id": "807cd69e",
   "metadata": {},
   "outputs": [],
   "source": [
    "df.drop(['Annual_income'], axis=1, inplace=True)\n",
    "df['Annual_income'] = df_t"
   ]
  },
  {
   "cell_type": "code",
   "execution_count": 133,
   "id": "3b897248",
   "metadata": {},
   "outputs": [
    {
     "data": {
      "text/html": [
       "<div>\n",
       "<style scoped>\n",
       "    .dataframe tbody tr th:only-of-type {\n",
       "        vertical-align: middle;\n",
       "    }\n",
       "\n",
       "    .dataframe tbody tr th {\n",
       "        vertical-align: top;\n",
       "    }\n",
       "\n",
       "    .dataframe thead th {\n",
       "        text-align: right;\n",
       "    }\n",
       "</style>\n",
       "<table border=\"1\" class=\"dataframe\">\n",
       "  <thead>\n",
       "    <tr style=\"text-align: right;\">\n",
       "      <th></th>\n",
       "      <th>Gender</th>\n",
       "      <th>Age</th>\n",
       "      <th>spending_score</th>\n",
       "      <th>Annual_income</th>\n",
       "    </tr>\n",
       "  </thead>\n",
       "  <tbody>\n",
       "    <tr>\n",
       "      <th>0</th>\n",
       "      <td>Male</td>\n",
       "      <td>19</td>\n",
       "      <td>39</td>\n",
       "      <td>15.00</td>\n",
       "    </tr>\n",
       "    <tr>\n",
       "      <th>1</th>\n",
       "      <td>Male</td>\n",
       "      <td>21</td>\n",
       "      <td>81</td>\n",
       "      <td>15.00</td>\n",
       "    </tr>\n",
       "    <tr>\n",
       "      <th>2</th>\n",
       "      <td>Female</td>\n",
       "      <td>20</td>\n",
       "      <td>6</td>\n",
       "      <td>16.00</td>\n",
       "    </tr>\n",
       "    <tr>\n",
       "      <th>3</th>\n",
       "      <td>Female</td>\n",
       "      <td>23</td>\n",
       "      <td>77</td>\n",
       "      <td>16.00</td>\n",
       "    </tr>\n",
       "    <tr>\n",
       "      <th>4</th>\n",
       "      <td>Female</td>\n",
       "      <td>31</td>\n",
       "      <td>40</td>\n",
       "      <td>17.00</td>\n",
       "    </tr>\n",
       "    <tr>\n",
       "      <th>...</th>\n",
       "      <td>...</td>\n",
       "      <td>...</td>\n",
       "      <td>...</td>\n",
       "      <td>...</td>\n",
       "    </tr>\n",
       "    <tr>\n",
       "      <th>195</th>\n",
       "      <td>Female</td>\n",
       "      <td>35</td>\n",
       "      <td>79</td>\n",
       "      <td>120.00</td>\n",
       "    </tr>\n",
       "    <tr>\n",
       "      <th>196</th>\n",
       "      <td>Female</td>\n",
       "      <td>45</td>\n",
       "      <td>28</td>\n",
       "      <td>126.00</td>\n",
       "    </tr>\n",
       "    <tr>\n",
       "      <th>197</th>\n",
       "      <td>Male</td>\n",
       "      <td>32</td>\n",
       "      <td>74</td>\n",
       "      <td>126.00</td>\n",
       "    </tr>\n",
       "    <tr>\n",
       "      <th>198</th>\n",
       "      <td>Male</td>\n",
       "      <td>32</td>\n",
       "      <td>18</td>\n",
       "      <td>132.75</td>\n",
       "    </tr>\n",
       "    <tr>\n",
       "      <th>199</th>\n",
       "      <td>Male</td>\n",
       "      <td>30</td>\n",
       "      <td>83</td>\n",
       "      <td>132.75</td>\n",
       "    </tr>\n",
       "  </tbody>\n",
       "</table>\n",
       "<p>200 rows × 4 columns</p>\n",
       "</div>"
      ],
      "text/plain": [
       "     Gender  Age  spending_score  Annual_income\n",
       "0      Male   19              39          15.00\n",
       "1      Male   21              81          15.00\n",
       "2    Female   20               6          16.00\n",
       "3    Female   23              77          16.00\n",
       "4    Female   31              40          17.00\n",
       "..      ...  ...             ...            ...\n",
       "195  Female   35              79         120.00\n",
       "196  Female   45              28         126.00\n",
       "197    Male   32              74         126.00\n",
       "198    Male   32              18         132.75\n",
       "199    Male   30              83         132.75\n",
       "\n",
       "[200 rows x 4 columns]"
      ]
     },
     "execution_count": 133,
     "metadata": {},
     "output_type": "execute_result"
    }
   ],
   "source": [
    "df"
   ]
  },
  {
   "cell_type": "code",
   "execution_count": 135,
   "id": "ad95ed2c",
   "metadata": {},
   "outputs": [],
   "source": [
    "#standardizing the data\n",
    "from sklearn.preprocessing import StandardScaler\n",
    "scaler = StandardScaler()\n",
    "data = scaler.fit_transform(df.iloc[:,[1,2,3]])"
   ]
  },
  {
   "cell_type": "code",
   "execution_count": 136,
   "id": "1a8151cb",
   "metadata": {},
   "outputs": [
    {
     "data": {
      "text/plain": [
       "array([[-1.42456879, -0.43480148, -1.74542941],\n",
       "       [-1.28103541,  1.19570407, -1.74542941],\n",
       "       [-1.3528021 , -1.71591298, -1.70708307],\n",
       "       [-1.13750203,  1.04041783, -1.70708307],\n",
       "       [-0.56336851, -0.39597992, -1.66873673],\n",
       "       [-1.20926872,  1.00159627, -1.66873673],\n",
       "       [-0.27630176, -1.71591298, -1.6303904 ],\n",
       "       [-1.13750203,  1.70038436, -1.6303904 ],\n",
       "       [ 1.80493225, -1.83237767, -1.59204406],\n",
       "       [-0.6351352 ,  0.84631002, -1.59204406],\n",
       "       [ 2.02023231, -1.4053405 , -1.59204406],\n",
       "       [-0.27630176,  1.89449216, -1.59204406],\n",
       "       [ 1.37433211, -1.36651894, -1.55369772],\n",
       "       [-1.06573534,  1.04041783, -1.55369772],\n",
       "       [-0.13276838, -1.44416206, -1.55369772],\n",
       "       [-1.20926872,  1.11806095, -1.55369772],\n",
       "       [-0.27630176, -0.59008772, -1.51535138],\n",
       "       [-1.3528021 ,  0.61338066, -1.51535138],\n",
       "       [ 0.94373197, -0.82301709, -1.43865871],\n",
       "       [-0.27630176,  1.8556706 , -1.43865871],\n",
       "       [-0.27630176, -0.59008772, -1.40031237],\n",
       "       [-0.99396865,  0.88513158, -1.40031237],\n",
       "       [ 0.51313183, -1.75473454, -1.36196603],\n",
       "       [-0.56336851,  0.88513158, -1.36196603],\n",
       "       [ 1.08726535, -1.4053405 , -1.24692702],\n",
       "       [-0.70690189,  1.23452563, -1.24692702],\n",
       "       [ 0.44136514, -0.7065524 , -1.24692702],\n",
       "       [-0.27630176,  0.41927286, -1.24692702],\n",
       "       [ 0.08253169, -0.74537397, -1.20858069],\n",
       "       [-1.13750203,  1.42863343, -1.20858069],\n",
       "       [ 1.51786549, -1.7935561 , -1.17023435],\n",
       "       [-1.28103541,  0.88513158, -1.17023435],\n",
       "       [ 1.01549866, -1.7935561 , -1.05519534],\n",
       "       [-1.49633548,  1.62274124, -1.05519534],\n",
       "       [ 0.7284319 , -1.4053405 , -1.05519534],\n",
       "       [-1.28103541,  1.19570407, -1.05519534],\n",
       "       [ 0.22606507, -1.28887582, -1.016849  ],\n",
       "       [-0.6351352 ,  0.88513158, -1.016849  ],\n",
       "       [-0.20453507, -0.93948177, -0.90180999],\n",
       "       [-1.3528021 ,  0.96277471, -0.90180999],\n",
       "       [ 1.87669894, -0.59008772, -0.86346365],\n",
       "       [-1.06573534,  1.62274124, -0.86346365],\n",
       "       [ 0.65666521, -0.55126616, -0.82511731],\n",
       "       [-0.56336851,  0.41927286, -0.82511731],\n",
       "       [ 0.7284319 , -0.86183865, -0.82511731],\n",
       "       [-1.06573534,  0.5745591 , -0.82511731],\n",
       "       [ 0.80019859,  0.18634349, -0.78677098],\n",
       "       [-0.85043527, -0.12422899, -0.78677098],\n",
       "       [-0.70690189, -0.3183368 , -0.78677098],\n",
       "       [-0.56336851, -0.3183368 , -0.78677098],\n",
       "       [ 0.7284319 ,  0.06987881, -0.7100783 ],\n",
       "       [-0.41983513,  0.38045129, -0.7100783 ],\n",
       "       [-0.56336851,  0.14752193, -0.67173196],\n",
       "       [ 1.4460988 ,  0.38045129, -0.67173196],\n",
       "       [ 0.80019859, -0.20187212, -0.67173196],\n",
       "       [ 0.58489852, -0.35715836, -0.67173196],\n",
       "       [ 0.87196528, -0.00776431, -0.63338563],\n",
       "       [ 2.16376569, -0.16305055, -0.63338563],\n",
       "       [-0.85043527,  0.03105725, -0.55669295],\n",
       "       [ 1.01549866, -0.16305055, -0.55669295],\n",
       "       [ 2.23553238,  0.22516505, -0.55669295],\n",
       "       [-1.42456879,  0.18634349, -0.55669295],\n",
       "       [ 2.02023231,  0.06987881, -0.51834661],\n",
       "       [ 1.08726535,  0.34162973, -0.51834661],\n",
       "       [ 1.73316556,  0.03105725, -0.48000028],\n",
       "       [-1.49633548,  0.34162973, -0.48000028],\n",
       "       [ 0.29783176, -0.00776431, -0.48000028],\n",
       "       [ 2.091999  , -0.08540743, -0.48000028],\n",
       "       [-1.42456879,  0.34162973, -0.48000028],\n",
       "       [-0.49160182, -0.12422899, -0.48000028],\n",
       "       [ 2.23553238,  0.18634349, -0.44165394],\n",
       "       [ 0.58489852, -0.3183368 , -0.44165394],\n",
       "       [ 1.51786549, -0.04658587, -0.4033076 ],\n",
       "       [ 1.51786549,  0.22516505, -0.4033076 ],\n",
       "       [ 1.4460988 , -0.12422899, -0.24992225],\n",
       "       [-0.92220196,  0.14752193, -0.24992225],\n",
       "       [ 0.44136514,  0.10870037, -0.24992225],\n",
       "       [ 0.08253169, -0.08540743, -0.24992225],\n",
       "       [-1.13750203,  0.06987881, -0.24992225],\n",
       "       [ 0.7284319 , -0.3183368 , -0.24992225],\n",
       "       [ 1.30256542,  0.03105725, -0.24992225],\n",
       "       [-0.06100169,  0.18634349, -0.24992225],\n",
       "       [ 2.02023231, -0.35715836, -0.24992225],\n",
       "       [ 0.51313183, -0.24069368, -0.24992225],\n",
       "       [-1.28103541,  0.26398661, -0.24992225],\n",
       "       [ 0.65666521, -0.16305055, -0.24992225],\n",
       "       [ 1.15903204,  0.30280817, -0.13488324],\n",
       "       [-1.20926872,  0.18634349, -0.13488324],\n",
       "       [-0.34806844,  0.38045129, -0.0965369 ],\n",
       "       [ 0.80019859, -0.16305055, -0.0965369 ],\n",
       "       [ 2.091999  ,  0.18634349, -0.05819057],\n",
       "       [-1.49633548, -0.35715836, -0.05819057],\n",
       "       [ 0.65666521, -0.04658587, -0.01984423],\n",
       "       [ 0.08253169, -0.39597992, -0.01984423],\n",
       "       [-0.49160182, -0.3183368 , -0.01984423],\n",
       "       [-1.06573534,  0.06987881, -0.01984423],\n",
       "       [ 0.58489852, -0.12422899, -0.01984423],\n",
       "       [-0.85043527, -0.00776431, -0.01984423],\n",
       "       [ 0.65666521, -0.3183368 ,  0.01850211],\n",
       "       [-1.3528021 , -0.04658587,  0.01850211],\n",
       "       [-1.13750203, -0.35715836,  0.05684845],\n",
       "       [ 0.7284319 , -0.08540743,  0.05684845],\n",
       "       [ 2.02023231,  0.34162973,  0.05684845],\n",
       "       [-0.92220196,  0.18634349,  0.05684845],\n",
       "       [ 0.7284319 ,  0.22516505,  0.05684845],\n",
       "       [-1.28103541, -0.3183368 ,  0.05684845],\n",
       "       [ 1.94846562, -0.00776431,  0.09519478],\n",
       "       [ 1.08726535, -0.16305055,  0.09519478],\n",
       "       [ 2.091999  , -0.27951524,  0.09519478],\n",
       "       [ 1.94846562, -0.08540743,  0.09519478],\n",
       "       [ 1.87669894,  0.06987881,  0.09519478],\n",
       "       [-1.42456879,  0.14752193,  0.09519478],\n",
       "       [-0.06100169, -0.3183368 ,  0.13354112],\n",
       "       [-1.42456879, -0.16305055,  0.13354112],\n",
       "       [-1.49633548, -0.08540743,  0.17188746],\n",
       "       [-1.42456879, -0.00776431,  0.17188746],\n",
       "       [ 1.73316556, -0.27951524,  0.17188746],\n",
       "       [ 0.7284319 ,  0.34162973,  0.17188746],\n",
       "       [ 0.87196528, -0.27951524,  0.24858013],\n",
       "       [ 0.80019859,  0.26398661,  0.24858013],\n",
       "       [-0.85043527,  0.22516505,  0.24858013],\n",
       "       [-0.06100169, -0.39597992,  0.24858013],\n",
       "       [ 0.08253169,  0.30280817,  0.32527281],\n",
       "       [ 0.010765  ,  1.58391968,  0.32527281],\n",
       "       [-1.13750203, -0.82301709,  0.36361914],\n",
       "       [-0.56336851,  1.04041783,  0.36361914],\n",
       "       [ 0.29783176, -0.59008772,  0.40196548],\n",
       "       [ 0.08253169,  1.73920592,  0.40196548],\n",
       "       [ 1.4460988 , -1.52180518,  0.40196548],\n",
       "       [-0.06100169,  0.96277471,  0.40196548],\n",
       "       [ 0.58489852, -1.5994483 ,  0.40196548],\n",
       "       [ 0.010765  ,  0.96277471,  0.40196548],\n",
       "       [-0.99396865, -0.62890928,  0.44031182],\n",
       "       [-0.56336851,  0.80748846,  0.44031182],\n",
       "       [-1.3528021 , -1.75473454,  0.47865816],\n",
       "       [-0.70690189,  1.46745499,  0.47865816],\n",
       "       [ 0.36959845, -1.67709142,  0.47865816],\n",
       "       [-0.49160182,  0.88513158,  0.47865816],\n",
       "       [-1.42456879, -1.56062674,  0.51700449],\n",
       "       [-0.27630176,  0.84631002,  0.51700449],\n",
       "       [ 1.30256542, -1.75473454,  0.55535083],\n",
       "       [-0.49160182,  1.6615628 ,  0.55535083],\n",
       "       [-0.77866858, -0.39597992,  0.59369717],\n",
       "       [-0.49160182,  1.42863343,  0.59369717],\n",
       "       [-0.99396865, -1.48298362,  0.6320435 ],\n",
       "       [-0.77866858,  1.81684904,  0.6320435 ],\n",
       "       [ 0.65666521, -0.55126616,  0.6320435 ],\n",
       "       [-0.49160182,  0.92395314,  0.6320435 ],\n",
       "       [-0.34806844, -1.09476801,  0.67038984],\n",
       "       [-0.34806844,  1.54509812,  0.67038984],\n",
       "       [ 0.29783176, -1.28887582,  0.67038984],\n",
       "       [ 0.010765  ,  1.46745499,  0.67038984],\n",
       "       [ 0.36959845, -1.17241113,  0.67038984],\n",
       "       [-0.06100169,  1.00159627,  0.67038984],\n",
       "       [ 0.58489852, -1.32769738,  0.67038984],\n",
       "       [-0.85043527,  1.50627656,  0.67038984],\n",
       "       [-0.13276838, -1.91002079,  0.67038984],\n",
       "       [-0.6351352 ,  1.07923939,  0.67038984],\n",
       "       [-0.34806844, -1.91002079,  0.67038984],\n",
       "       [-0.6351352 ,  0.88513158,  0.67038984],\n",
       "       [ 1.23079873, -0.59008772,  0.70873618],\n",
       "       [-0.70690189,  1.27334719,  0.70873618],\n",
       "       [-1.42456879, -1.75473454,  0.78542885],\n",
       "       [-0.56336851,  1.6615628 ,  0.78542885],\n",
       "       [ 0.80019859, -0.93948177,  0.9388142 ],\n",
       "       [-0.20453507,  0.96277471,  0.9388142 ],\n",
       "       [ 0.22606507, -1.17241113,  0.97716054],\n",
       "       [-0.41983513,  1.73920592,  0.97716054],\n",
       "       [-0.20453507, -0.90066021,  1.01550688],\n",
       "       [-0.49160182,  0.49691598,  1.01550688],\n",
       "       [ 0.08253169, -1.44416206,  1.01550688],\n",
       "       [-0.77866858,  0.96277471,  1.01550688],\n",
       "       [-0.20453507, -1.56062674,  1.01550688],\n",
       "       [-0.20453507,  1.62274124,  1.01550688],\n",
       "       [ 0.94373197, -1.44416206,  1.05385321],\n",
       "       [-0.6351352 ,  1.38981187,  1.05385321],\n",
       "       [ 1.37433211, -1.36651894,  1.05385321],\n",
       "       [-0.85043527,  0.72984534,  1.05385321],\n",
       "       [ 1.4460988 , -1.4053405 ,  1.2455849 ],\n",
       "       [-0.27630176,  1.54509812,  1.2455849 ],\n",
       "       [-0.13276838, -0.7065524 ,  1.39897025],\n",
       "       [-0.49160182,  1.38981187,  1.39897025],\n",
       "       [ 0.51313183, -1.36651894,  1.43731659],\n",
       "       [-0.70690189,  1.46745499,  1.43731659],\n",
       "       [ 0.15429838, -0.43480148,  1.47566292],\n",
       "       [-0.6351352 ,  1.81684904,  1.47566292],\n",
       "       [ 1.08726535, -1.01712489,  1.5523556 ],\n",
       "       [-0.77866858,  0.69102378,  1.5523556 ],\n",
       "       [ 0.15429838, -1.28887582,  1.62904827],\n",
       "       [-0.20453507,  1.35099031,  1.62904827],\n",
       "       [-0.34806844, -1.05594645,  1.62904827],\n",
       "       [-0.49160182,  0.72984534,  1.62904827],\n",
       "       [-0.41983513, -1.63826986,  2.01251165],\n",
       "       [-0.06100169,  1.58391968,  2.01251165],\n",
       "       [ 0.58489852, -1.32769738,  2.28093601],\n",
       "       [-0.27630176,  1.11806095,  2.28093601],\n",
       "       [ 0.44136514, -0.86183865,  2.51101403],\n",
       "       [-0.49160182,  0.92395314,  2.51101403],\n",
       "       [-0.49160182, -1.25005425,  2.76985181],\n",
       "       [-0.6351352 ,  1.27334719,  2.76985181]])"
      ]
     },
     "execution_count": 136,
     "metadata": {},
     "output_type": "execute_result"
    }
   ],
   "source": [
    "data"
   ]
  },
  {
   "cell_type": "code",
   "execution_count": 137,
   "id": "2a5cd07b",
   "metadata": {},
   "outputs": [],
   "source": [
    "#for creating the dendogram\n",
    "\n",
    "from scipy.cluster.hierarchy import linkage, dendrogram\n",
    "# import scipy.cluster.hierarchy as such"
   ]
  },
  {
   "cell_type": "code",
   "execution_count": 138,
   "id": "bd23883d",
   "metadata": {},
   "outputs": [],
   "source": [
    "z = linkage(data, method = \"complete\", metric = \"euclidean\")"
   ]
  },
  {
   "cell_type": "code",
   "execution_count": 139,
   "id": "d20e7773",
   "metadata": {},
   "outputs": [
    {
     "data": {
      "image/png": "[encoded data removed]",
      "text/plain": [
       "<Figure size 1080x576 with 1 Axes>"
      ]
     },
     "metadata": {
      "needs_background": "light"
     },
     "output_type": "display_data"
    }
   ],
   "source": [
    "# Dendrogram\n",
    "\n",
    "plt.figure(figsize=(15, 8));plt.title('Hierarchical Clustering Dendrogram');plt.xlabel('Index');plt.ylabel('Distance')\n",
    "dendrogram(z, \n",
    "    leaf_rotation = 0,  # rotates the x axis labels\n",
    "    leaf_font_size = 10 # font size for the x axis labels\n",
    ")\n",
    "plt.show()"
   ]
  },
  {
   "cell_type": "code",
   "execution_count": 140,
   "id": "94504612",
   "metadata": {},
   "outputs": [],
   "source": [
    "# Now applying AgglomerativeClustering choosing 6 as clusters from the above dendrogram\n",
    "from sklearn.cluster import AgglomerativeClustering"
   ]
  },
  {
   "cell_type": "code",
   "execution_count": 141,
   "id": "5c8aabb7",
   "metadata": {},
   "outputs": [
    {
     "data": {
      "text/plain": [
       "array([5, 4, 5, 4, 5, 4, 5, 4, 2, 4, 2, 4, 2, 4, 5, 4, 5, 4, 2, 4, 5, 4,\n",
       "       2, 4, 2, 4, 2, 3, 2, 4, 2, 4, 2, 4, 2, 4, 2, 4, 2, 4, 2, 4, 2, 3,\n",
       "       2, 3, 2, 3, 3, 3, 2, 3, 3, 2, 2, 2, 2, 2, 3, 2, 2, 3, 2, 2, 2, 3,\n",
       "       3, 2, 3, 3, 2, 2, 2, 2, 2, 3, 3, 3, 3, 2, 2, 3, 2, 2, 3, 2, 2, 3,\n",
       "       3, 2, 2, 3, 2, 3, 3, 3, 2, 3, 2, 3, 3, 2, 2, 3, 2, 3, 2, 2, 2, 2,\n",
       "       2, 3, 3, 3, 3, 3, 2, 2, 2, 2, 3, 3, 3, 1, 3, 1, 0, 1, 0, 1, 0, 1,\n",
       "       3, 1, 0, 1, 0, 1, 0, 1, 0, 1, 3, 1, 0, 1, 0, 1, 0, 1, 0, 1, 0, 1,\n",
       "       0, 1, 0, 1, 0, 1, 0, 1, 0, 1, 0, 1, 0, 1, 0, 1, 0, 1, 0, 1, 0, 1,\n",
       "       0, 1, 0, 1, 0, 1, 0, 1, 0, 1, 0, 1, 0, 1, 0, 1, 0, 1, 0, 1, 0, 1,\n",
       "       0, 1], dtype=int64)"
      ]
     },
     "execution_count": 141,
     "metadata": {},
     "output_type": "execute_result"
    }
   ],
   "source": [
    "h_complete = AgglomerativeClustering(n_clusters = 6, linkage = 'complete', affinity = \"euclidean\").fit(data) \n",
    "h_complete.labels_"
   ]
  },
  {
   "cell_type": "code",
   "execution_count": 142,
   "id": "e1a8d37b",
   "metadata": {},
   "outputs": [],
   "source": [
    "cluster_labels = pd.Series(h_complete.labels_)"
   ]
  },
  {
   "cell_type": "code",
   "execution_count": 143,
   "id": "1fc1ea86",
   "metadata": {},
   "outputs": [
    {
     "data": {
      "text/html": [
       "<div>\n",
       "<style scoped>\n",
       "    .dataframe tbody tr th:only-of-type {\n",
       "        vertical-align: middle;\n",
       "    }\n",
       "\n",
       "    .dataframe tbody tr th {\n",
       "        vertical-align: top;\n",
       "    }\n",
       "\n",
       "    .dataframe thead th {\n",
       "        text-align: right;\n",
       "    }\n",
       "</style>\n",
       "<table border=\"1\" class=\"dataframe\">\n",
       "  <thead>\n",
       "    <tr style=\"text-align: right;\">\n",
       "      <th></th>\n",
       "      <th>Gender</th>\n",
       "      <th>Age</th>\n",
       "      <th>spending_score</th>\n",
       "      <th>Annual_income</th>\n",
       "      <th>clust</th>\n",
       "    </tr>\n",
       "  </thead>\n",
       "  <tbody>\n",
       "    <tr>\n",
       "      <th>0</th>\n",
       "      <td>Male</td>\n",
       "      <td>19</td>\n",
       "      <td>39</td>\n",
       "      <td>15.00</td>\n",
       "      <td>5</td>\n",
       "    </tr>\n",
       "    <tr>\n",
       "      <th>1</th>\n",
       "      <td>Male</td>\n",
       "      <td>21</td>\n",
       "      <td>81</td>\n",
       "      <td>15.00</td>\n",
       "      <td>4</td>\n",
       "    </tr>\n",
       "    <tr>\n",
       "      <th>2</th>\n",
       "      <td>Female</td>\n",
       "      <td>20</td>\n",
       "      <td>6</td>\n",
       "      <td>16.00</td>\n",
       "      <td>5</td>\n",
       "    </tr>\n",
       "    <tr>\n",
       "      <th>3</th>\n",
       "      <td>Female</td>\n",
       "      <td>23</td>\n",
       "      <td>77</td>\n",
       "      <td>16.00</td>\n",
       "      <td>4</td>\n",
       "    </tr>\n",
       "    <tr>\n",
       "      <th>4</th>\n",
       "      <td>Female</td>\n",
       "      <td>31</td>\n",
       "      <td>40</td>\n",
       "      <td>17.00</td>\n",
       "      <td>5</td>\n",
       "    </tr>\n",
       "    <tr>\n",
       "      <th>...</th>\n",
       "      <td>...</td>\n",
       "      <td>...</td>\n",
       "      <td>...</td>\n",
       "      <td>...</td>\n",
       "      <td>...</td>\n",
       "    </tr>\n",
       "    <tr>\n",
       "      <th>195</th>\n",
       "      <td>Female</td>\n",
       "      <td>35</td>\n",
       "      <td>79</td>\n",
       "      <td>120.00</td>\n",
       "      <td>1</td>\n",
       "    </tr>\n",
       "    <tr>\n",
       "      <th>196</th>\n",
       "      <td>Female</td>\n",
       "      <td>45</td>\n",
       "      <td>28</td>\n",
       "      <td>126.00</td>\n",
       "      <td>0</td>\n",
       "    </tr>\n",
       "    <tr>\n",
       "      <th>197</th>\n",
       "      <td>Male</td>\n",
       "      <td>32</td>\n",
       "      <td>74</td>\n",
       "      <td>126.00</td>\n",
       "      <td>1</td>\n",
       "    </tr>\n",
       "    <tr>\n",
       "      <th>198</th>\n",
       "      <td>Male</td>\n",
       "      <td>32</td>\n",
       "      <td>18</td>\n",
       "      <td>132.75</td>\n",
       "      <td>0</td>\n",
       "    </tr>\n",
       "    <tr>\n",
       "      <th>199</th>\n",
       "      <td>Male</td>\n",
       "      <td>30</td>\n",
       "      <td>83</td>\n",
       "      <td>132.75</td>\n",
       "      <td>1</td>\n",
       "    </tr>\n",
       "  </tbody>\n",
       "</table>\n",
       "<p>200 rows × 5 columns</p>\n",
       "</div>"
      ],
      "text/plain": [
       "     Gender  Age  spending_score  Annual_income  clust\n",
       "0      Male   19              39          15.00      5\n",
       "1      Male   21              81          15.00      4\n",
       "2    Female   20               6          16.00      5\n",
       "3    Female   23              77          16.00      4\n",
       "4    Female   31              40          17.00      5\n",
       "..      ...  ...             ...            ...    ...\n",
       "195  Female   35              79         120.00      1\n",
       "196  Female   45              28         126.00      0\n",
       "197    Male   32              74         126.00      1\n",
       "198    Male   32              18         132.75      0\n",
       "199    Male   30              83         132.75      1\n",
       "\n",
       "[200 rows x 5 columns]"
      ]
     },
     "execution_count": 143,
     "metadata": {},
     "output_type": "execute_result"
    }
   ],
   "source": [
    "df['clust'] = cluster_labels\n",
    "\n",
    "df"
   ]
  },
  {
   "cell_type": "code",
   "execution_count": 144,
   "id": "674e62ea",
   "metadata": {},
   "outputs": [
    {
     "data": {
      "text/html": [
       "<div>\n",
       "<style scoped>\n",
       "    .dataframe tbody tr th:only-of-type {\n",
       "        vertical-align: middle;\n",
       "    }\n",
       "\n",
       "    .dataframe tbody tr th {\n",
       "        vertical-align: top;\n",
       "    }\n",
       "\n",
       "    .dataframe thead th {\n",
       "        text-align: right;\n",
       "    }\n",
       "</style>\n",
       "<table border=\"1\" class=\"dataframe\">\n",
       "  <thead>\n",
       "    <tr style=\"text-align: right;\">\n",
       "      <th></th>\n",
       "      <th>Age</th>\n",
       "      <th>spending_score</th>\n",
       "      <th>Annual_income</th>\n",
       "    </tr>\n",
       "    <tr>\n",
       "      <th>clust</th>\n",
       "      <th></th>\n",
       "      <th></th>\n",
       "      <th></th>\n",
       "    </tr>\n",
       "  </thead>\n",
       "  <tbody>\n",
       "    <tr>\n",
       "      <th>0</th>\n",
       "      <td>10.897305</td>\n",
       "      <td>10.211215</td>\n",
       "      <td>16.006580</td>\n",
       "    </tr>\n",
       "    <tr>\n",
       "      <th>1</th>\n",
       "      <td>3.728650</td>\n",
       "      <td>9.364489</td>\n",
       "      <td>15.977261</td>\n",
       "    </tr>\n",
       "    <tr>\n",
       "      <th>2</th>\n",
       "      <td>8.765463</td>\n",
       "      <td>15.853437</td>\n",
       "      <td>13.576710</td>\n",
       "    </tr>\n",
       "    <tr>\n",
       "      <th>3</th>\n",
       "      <td>7.725134</td>\n",
       "      <td>8.063194</td>\n",
       "      <td>10.782293</td>\n",
       "    </tr>\n",
       "    <tr>\n",
       "      <th>4</th>\n",
       "      <td>5.029126</td>\n",
       "      <td>9.514532</td>\n",
       "      <td>7.287155</td>\n",
       "    </tr>\n",
       "    <tr>\n",
       "      <th>5</th>\n",
       "      <td>7.587584</td>\n",
       "      <td>15.741967</td>\n",
       "      <td>3.147183</td>\n",
       "    </tr>\n",
       "  </tbody>\n",
       "</table>\n",
       "</div>"
      ],
      "text/plain": [
       "             Age  spending_score  Annual_income\n",
       "clust                                          \n",
       "0      10.897305       10.211215      16.006580\n",
       "1       3.728650        9.364489      15.977261\n",
       "2       8.765463       15.853437      13.576710\n",
       "3       7.725134        8.063194      10.782293\n",
       "4       5.029126        9.514532       7.287155\n",
       "5       7.587584       15.741967       3.147183"
      ]
     },
     "execution_count": 144,
     "metadata": {},
     "output_type": "execute_result"
    }
   ],
   "source": [
    "# Aggregate mean of each cluster\n",
    "df.groupby(df.clust).mean()\n",
    "df.groupby(df.clust).std()\n"
   ]
  },
  {
   "cell_type": "code",
   "execution_count": 145,
   "id": "2e4cc834",
   "metadata": {},
   "outputs": [],
   "source": [
    "#Cross validating with K means\n",
    "#K Means clustering\n",
    "from sklearn.cluster import KMeans"
   ]
  },
  {
   "cell_type": "code",
   "execution_count": 146,
   "id": "53d1a3d9",
   "metadata": {},
   "outputs": [],
   "source": [
    "TWSS = []"
   ]
  },
  {
   "cell_type": "code",
   "execution_count": 147,
   "id": "c1d42201",
   "metadata": {},
   "outputs": [],
   "source": [
    "k = list(range(2,9))"
   ]
  },
  {
   "cell_type": "code",
   "execution_count": 148,
   "id": "ef18447b",
   "metadata": {},
   "outputs": [],
   "source": [
    "for i in k:\n",
    "    kmeans = KMeans(n_clusters =i)\n",
    "    kmeans.fit(data)\n",
    "    TWSS.append(kmeans.inertia_)"
   ]
  },
  {
   "cell_type": "code",
   "execution_count": 149,
   "id": "0d3a2f4b",
   "metadata": {},
   "outputs": [
    {
     "data": {
      "text/plain": [
       "[389.38622652676895,\n",
       " 295.187724720685,\n",
       " 204.69696344803396,\n",
       " 167.57686457179992,\n",
       " 133.07634013140506,\n",
       " 116.36964666165153,\n",
       " 104.65700568536181]"
      ]
     },
     "execution_count": 149,
     "metadata": {},
     "output_type": "execute_result"
    }
   ],
   "source": [
    "TWSS\n"
   ]
  },
  {
   "cell_type": "code",
   "execution_count": 150,
   "id": "b0379311",
   "metadata": {},
   "outputs": [
    {
     "data": {
      "text/plain": [
       "Text(0, 0.5, 'total_wss')"
      ]
     },
     "execution_count": 150,
     "metadata": {},
     "output_type": "execute_result"
    },
    {
     "data": {
      "image/png": "[encoded data removed]",
      "text/plain": [
       "<Figure size 432x288 with 1 Axes>"
      ]
     },
     "metadata": {
      "needs_background": "light"
     },
     "output_type": "display_data"
    }
   ],
   "source": [
    "#Scree plot\n",
    "plt.plot(k, TWSS, 'ro-');plt.xlabel(\"no_of_clusters\");plt.ylabel(\"total_wss\")"
   ]
  },
  {
   "cell_type": "code",
   "execution_count": null,
   "id": "29ba26b0",
   "metadata": {},
   "outputs": [],
   "source": [
    "#Conclusion\n",
    "Based on the Hierarchical and K means clustering making 6 clusters makes sense.\n",
    "Based on the features like Age, Gender, Spending score and Annual income all the mall customers can  be  clustered into 6 clusters."
   ]
  }
 ],
 "metadata": {
  "kernelspec": {
   "display_name": "Python 3 (ipykernel)",
   "language": "python",
   "name": "python3"
  },
  "language_info": {
   "codemirror_mode": {
    "name": "ipython",
    "version": 3
   },
   "file_extension": ".py",
   "mimetype": "text/x-python",
   "name": "python",
   "nbconvert_exporter": "python",
   "pygments_lexer": "ipython3",
   "version": "3.9.12"
  }
 },
 "nbformat": 4,
 "nbformat_minor": 5
}
